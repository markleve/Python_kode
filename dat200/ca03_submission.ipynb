{
 "cells": [
  {
   "cell_type": "markdown",
   "metadata": {},
   "source": [
    "# Mandatory assignment 3\n",
    "\n",
    "Name: Marie Klever\n",
    "\n",
    "Using machine learning to predict wich passangers survived the Titanic shipwreck."
   ]
  },
  {
   "cell_type": "markdown",
   "metadata": {},
   "source": [
    "### Assignment expectations\n",
    "\n",
    "- imputation: anything from the simplest tricks in scikit-learn to exploiting the structure of the data to create more tailored solutions,\n",
    "\n",
    "- pre-processing: typically scaling and OneHots, possibly combining features,\n",
    "    \n",
    "- modelling and prediction: use tools from Chapter 6 to select classifier(s) and tune parameters, include tricks from Chapter 7 if you like to, or find external classifiers that can be included in the same framework, e.g. XGBoost"
   ]
  },
  {
   "cell_type": "markdown",
   "metadata": {},
   "source": [
    "## Loading an analyzing data\n",
    "\n",
    "Loading libraries and the dataset to be used in the assignment.\n",
    "\n",
    "### Loading data"
   ]
  },
  {
   "cell_type": "code",
   "execution_count": 1,
   "metadata": {},
   "outputs": [],
   "source": [
    "%matplotlib inline \n",
    "\n",
    "import seaborn as sns\n",
    "import numpy as np\n",
    "import pandas as pd\n",
    "import matplotlib.pyplot as plt\n",
    "\n",
    "import warnings\n",
    "warnings.filterwarnings('ignore')\n",
    "\n",
    "from sklearn.preprocessing import StandardScaler, LabelBinarizer\n",
    "from sklearn.model_selection import train_test_split, GridSearchCV\n",
    "from sklearn.feature_selection import VarianceThreshold, RFE, SelectFromModel\n",
    "\n",
    "# Classification algorithms\n",
    "from sklearn.svm import SVC, LinearSVC\n",
    "from sklearn.tree import DecisionTreeClassifier\n",
    "from sklearn.neighbors import KNeighborsClassifier\n",
    "from sklearn.ensemble import RandomForestClassifier\n",
    "from sklearn.linear_model import Perceptron, LogisticRegression\n",
    "\n",
    "sns.set_style(\"whitegrid\")"
   ]
  },
  {
   "cell_type": "code",
   "execution_count": 2,
   "metadata": {},
   "outputs": [],
   "source": [
    "train_data = pd.read_csv(\"train.csv\") # has one more column (survived-column)\n",
    "test_data = pd.read_csv(\"test.csv\")"
   ]
  },
  {
   "cell_type": "code",
   "execution_count": 3,
   "metadata": {},
   "outputs": [
    {
     "name": "stdout",
     "output_type": "stream",
     "text": [
      "Train dataset: (891, 12), Test dataset (418, 11)\n"
     ]
    }
   ],
   "source": [
    "print('Train dataset: %s, Test dataset %s' %(str(train_data.shape), str(test_data.shape)))"
   ]
  },
  {
   "cell_type": "code",
   "execution_count": 4,
   "metadata": {},
   "outputs": [
    {
     "data": {
      "text/html": [
       "<div>\n",
       "<style scoped>\n",
       "    .dataframe tbody tr th:only-of-type {\n",
       "        vertical-align: middle;\n",
       "    }\n",
       "\n",
       "    .dataframe tbody tr th {\n",
       "        vertical-align: top;\n",
       "    }\n",
       "\n",
       "    .dataframe thead th {\n",
       "        text-align: right;\n",
       "    }\n",
       "</style>\n",
       "<table border=\"1\" class=\"dataframe\">\n",
       "  <thead>\n",
       "    <tr style=\"text-align: right;\">\n",
       "      <th></th>\n",
       "      <th>PassengerId</th>\n",
       "      <th>Survived</th>\n",
       "      <th>Pclass</th>\n",
       "      <th>Name</th>\n",
       "      <th>Sex</th>\n",
       "      <th>Age</th>\n",
       "      <th>SibSp</th>\n",
       "      <th>Parch</th>\n",
       "      <th>Ticket</th>\n",
       "      <th>Fare</th>\n",
       "      <th>Cabin</th>\n",
       "      <th>Embarked</th>\n",
       "    </tr>\n",
       "  </thead>\n",
       "  <tbody>\n",
       "    <tr>\n",
       "      <th>0</th>\n",
       "      <td>1</td>\n",
       "      <td>0</td>\n",
       "      <td>3</td>\n",
       "      <td>Braund, Mr. Owen Harris</td>\n",
       "      <td>male</td>\n",
       "      <td>22.0</td>\n",
       "      <td>1</td>\n",
       "      <td>0</td>\n",
       "      <td>A/5 21171</td>\n",
       "      <td>7.2500</td>\n",
       "      <td>NaN</td>\n",
       "      <td>S</td>\n",
       "    </tr>\n",
       "    <tr>\n",
       "      <th>1</th>\n",
       "      <td>2</td>\n",
       "      <td>1</td>\n",
       "      <td>1</td>\n",
       "      <td>Cumings, Mrs. John Bradley (Florence Briggs Th...</td>\n",
       "      <td>female</td>\n",
       "      <td>38.0</td>\n",
       "      <td>1</td>\n",
       "      <td>0</td>\n",
       "      <td>PC 17599</td>\n",
       "      <td>71.2833</td>\n",
       "      <td>C85</td>\n",
       "      <td>C</td>\n",
       "    </tr>\n",
       "    <tr>\n",
       "      <th>2</th>\n",
       "      <td>3</td>\n",
       "      <td>1</td>\n",
       "      <td>3</td>\n",
       "      <td>Heikkinen, Miss. Laina</td>\n",
       "      <td>female</td>\n",
       "      <td>26.0</td>\n",
       "      <td>0</td>\n",
       "      <td>0</td>\n",
       "      <td>STON/O2. 3101282</td>\n",
       "      <td>7.9250</td>\n",
       "      <td>NaN</td>\n",
       "      <td>S</td>\n",
       "    </tr>\n",
       "    <tr>\n",
       "      <th>3</th>\n",
       "      <td>4</td>\n",
       "      <td>1</td>\n",
       "      <td>1</td>\n",
       "      <td>Futrelle, Mrs. Jacques Heath (Lily May Peel)</td>\n",
       "      <td>female</td>\n",
       "      <td>35.0</td>\n",
       "      <td>1</td>\n",
       "      <td>0</td>\n",
       "      <td>113803</td>\n",
       "      <td>53.1000</td>\n",
       "      <td>C123</td>\n",
       "      <td>S</td>\n",
       "    </tr>\n",
       "    <tr>\n",
       "      <th>4</th>\n",
       "      <td>5</td>\n",
       "      <td>0</td>\n",
       "      <td>3</td>\n",
       "      <td>Allen, Mr. William Henry</td>\n",
       "      <td>male</td>\n",
       "      <td>35.0</td>\n",
       "      <td>0</td>\n",
       "      <td>0</td>\n",
       "      <td>373450</td>\n",
       "      <td>8.0500</td>\n",
       "      <td>NaN</td>\n",
       "      <td>S</td>\n",
       "    </tr>\n",
       "  </tbody>\n",
       "</table>\n",
       "</div>"
      ],
      "text/plain": [
       "   PassengerId  Survived  Pclass  \\\n",
       "0            1         0       3   \n",
       "1            2         1       1   \n",
       "2            3         1       3   \n",
       "3            4         1       1   \n",
       "4            5         0       3   \n",
       "\n",
       "                                                Name     Sex   Age  SibSp  \\\n",
       "0                            Braund, Mr. Owen Harris    male  22.0      1   \n",
       "1  Cumings, Mrs. John Bradley (Florence Briggs Th...  female  38.0      1   \n",
       "2                             Heikkinen, Miss. Laina  female  26.0      0   \n",
       "3       Futrelle, Mrs. Jacques Heath (Lily May Peel)  female  35.0      1   \n",
       "4                           Allen, Mr. William Henry    male  35.0      0   \n",
       "\n",
       "   Parch            Ticket     Fare Cabin Embarked  \n",
       "0      0         A/5 21171   7.2500   NaN        S  \n",
       "1      0          PC 17599  71.2833   C85        C  \n",
       "2      0  STON/O2. 3101282   7.9250   NaN        S  \n",
       "3      0            113803  53.1000  C123        S  \n",
       "4      0            373450   8.0500   NaN        S  "
      ]
     },
     "execution_count": 4,
     "metadata": {},
     "output_type": "execute_result"
    }
   ],
   "source": [
    "train_data.head()"
   ]
  },
  {
   "cell_type": "code",
   "execution_count": 5,
   "metadata": {},
   "outputs": [
    {
     "data": {
      "text/plain": [
       "PassengerId      int64\n",
       "Survived         int64\n",
       "Pclass           int64\n",
       "Name            object\n",
       "Sex             object\n",
       "Age            float64\n",
       "SibSp            int64\n",
       "Parch            int64\n",
       "Ticket          object\n",
       "Fare           float64\n",
       "Cabin           object\n",
       "Embarked        object\n",
       "dtype: object"
      ]
     },
     "execution_count": 5,
     "metadata": {},
     "output_type": "execute_result"
    }
   ],
   "source": [
    "train_data.dtypes"
   ]
  },
  {
   "cell_type": "markdown",
   "metadata": {},
   "source": [
    "### Analyzing data\n",
    "\n",
    "Looking for missing data (NaN) and where they are."
   ]
  },
  {
   "cell_type": "code",
   "execution_count": 6,
   "metadata": {},
   "outputs": [
    {
     "name": "stdout",
     "output_type": "stream",
     "text": [
      "There are NaN values in the following feature columns\n",
      "\n",
      "          Training data  Test data\n",
      "Age                 177       86.0\n",
      "Cabin               687      327.0\n",
      "Embarked              2        0.0\n",
      "Fare                  0        1.0\n"
     ]
    }
   ],
   "source": [
    "nans = pd.concat([train_data.isnull().sum(), test_data.isnull().sum()], axis=1, \n",
    "                 keys=[\"Training data\", \"Test data\"]) \n",
    "print(\"There are NaN values in the following feature columns\\n\")\n",
    "print(nans[nans.sum(axis=1) > 0])"
   ]
  },
  {
   "cell_type": "code",
   "execution_count": 7,
   "metadata": {},
   "outputs": [
    {
     "data": {
      "text/html": [
       "<div>\n",
       "<style scoped>\n",
       "    .dataframe tbody tr th:only-of-type {\n",
       "        vertical-align: middle;\n",
       "    }\n",
       "\n",
       "    .dataframe tbody tr th {\n",
       "        vertical-align: top;\n",
       "    }\n",
       "\n",
       "    .dataframe thead th {\n",
       "        text-align: right;\n",
       "    }\n",
       "</style>\n",
       "<table border=\"1\" class=\"dataframe\">\n",
       "  <thead>\n",
       "    <tr style=\"text-align: right;\">\n",
       "      <th></th>\n",
       "      <th>PassengerId</th>\n",
       "      <th>Survived</th>\n",
       "      <th>Pclass</th>\n",
       "      <th>Age</th>\n",
       "      <th>SibSp</th>\n",
       "      <th>Parch</th>\n",
       "      <th>Fare</th>\n",
       "    </tr>\n",
       "  </thead>\n",
       "  <tbody>\n",
       "    <tr>\n",
       "      <th>count</th>\n",
       "      <td>891.000000</td>\n",
       "      <td>891.000000</td>\n",
       "      <td>891.000000</td>\n",
       "      <td>714.000000</td>\n",
       "      <td>891.000000</td>\n",
       "      <td>891.000000</td>\n",
       "      <td>891.000000</td>\n",
       "    </tr>\n",
       "    <tr>\n",
       "      <th>mean</th>\n",
       "      <td>446.000000</td>\n",
       "      <td>0.383838</td>\n",
       "      <td>2.308642</td>\n",
       "      <td>29.699118</td>\n",
       "      <td>0.523008</td>\n",
       "      <td>0.381594</td>\n",
       "      <td>32.204208</td>\n",
       "    </tr>\n",
       "    <tr>\n",
       "      <th>std</th>\n",
       "      <td>257.353842</td>\n",
       "      <td>0.486592</td>\n",
       "      <td>0.836071</td>\n",
       "      <td>14.526497</td>\n",
       "      <td>1.102743</td>\n",
       "      <td>0.806057</td>\n",
       "      <td>49.693429</td>\n",
       "    </tr>\n",
       "    <tr>\n",
       "      <th>min</th>\n",
       "      <td>1.000000</td>\n",
       "      <td>0.000000</td>\n",
       "      <td>1.000000</td>\n",
       "      <td>0.420000</td>\n",
       "      <td>0.000000</td>\n",
       "      <td>0.000000</td>\n",
       "      <td>0.000000</td>\n",
       "    </tr>\n",
       "    <tr>\n",
       "      <th>25%</th>\n",
       "      <td>223.500000</td>\n",
       "      <td>0.000000</td>\n",
       "      <td>2.000000</td>\n",
       "      <td>20.125000</td>\n",
       "      <td>0.000000</td>\n",
       "      <td>0.000000</td>\n",
       "      <td>7.910400</td>\n",
       "    </tr>\n",
       "    <tr>\n",
       "      <th>50%</th>\n",
       "      <td>446.000000</td>\n",
       "      <td>0.000000</td>\n",
       "      <td>3.000000</td>\n",
       "      <td>28.000000</td>\n",
       "      <td>0.000000</td>\n",
       "      <td>0.000000</td>\n",
       "      <td>14.454200</td>\n",
       "    </tr>\n",
       "    <tr>\n",
       "      <th>75%</th>\n",
       "      <td>668.500000</td>\n",
       "      <td>1.000000</td>\n",
       "      <td>3.000000</td>\n",
       "      <td>38.000000</td>\n",
       "      <td>1.000000</td>\n",
       "      <td>0.000000</td>\n",
       "      <td>31.000000</td>\n",
       "    </tr>\n",
       "    <tr>\n",
       "      <th>max</th>\n",
       "      <td>891.000000</td>\n",
       "      <td>1.000000</td>\n",
       "      <td>3.000000</td>\n",
       "      <td>80.000000</td>\n",
       "      <td>8.000000</td>\n",
       "      <td>6.000000</td>\n",
       "      <td>512.329200</td>\n",
       "    </tr>\n",
       "  </tbody>\n",
       "</table>\n",
       "</div>"
      ],
      "text/plain": [
       "       PassengerId    Survived      Pclass         Age       SibSp  \\\n",
       "count   891.000000  891.000000  891.000000  714.000000  891.000000   \n",
       "mean    446.000000    0.383838    2.308642   29.699118    0.523008   \n",
       "std     257.353842    0.486592    0.836071   14.526497    1.102743   \n",
       "min       1.000000    0.000000    1.000000    0.420000    0.000000   \n",
       "25%     223.500000    0.000000    2.000000   20.125000    0.000000   \n",
       "50%     446.000000    0.000000    3.000000   28.000000    0.000000   \n",
       "75%     668.500000    1.000000    3.000000   38.000000    1.000000   \n",
       "max     891.000000    1.000000    3.000000   80.000000    8.000000   \n",
       "\n",
       "            Parch        Fare  \n",
       "count  891.000000  891.000000  \n",
       "mean     0.381594   32.204208  \n",
       "std      0.806057   49.693429  \n",
       "min      0.000000    0.000000  \n",
       "25%      0.000000    7.910400  \n",
       "50%      0.000000   14.454200  \n",
       "75%      0.000000   31.000000  \n",
       "max      6.000000  512.329200  "
      ]
     },
     "execution_count": 7,
     "metadata": {},
     "output_type": "execute_result"
    }
   ],
   "source": [
    "train_data.describe(include=\"number\")"
   ]
  },
  {
   "cell_type": "code",
   "execution_count": 8,
   "metadata": {},
   "outputs": [
    {
     "data": {
      "image/png": "[encoded data removed]",
      "text/plain": [
       "<matplotlib.figure.Figure at 0x1a10d06860>"
      ]
     },
     "metadata": {},
     "output_type": "display_data"
    }
   ],
   "source": [
    "sns.countplot(x=\"Survived\", data=train_data)\n",
    "plt.title(\"Distribution of survivals in training data\")\n",
    "plt.show()"
   ]
  },
  {
   "cell_type": "markdown",
   "metadata": {},
   "source": [
    "Looking at the distribution of the numerical columns using box plots. The green triangle shows the mean value:"
   ]
  },
  {
   "cell_type": "code",
   "execution_count": 9,
   "metadata": {},
   "outputs": [
    {
     "data": {
      "image/png": "[encoded data removed]",
      "text/plain": [
       "<matplotlib.figure.Figure at 0x109fb0780>"
      ]
     },
     "metadata": {},
     "output_type": "display_data"
    }
   ],
   "source": [
    "f, axes = plt.subplots(1, 2, figsize=(10, 5))\n",
    "\n",
    "sns.boxplot(x=\"Survived\", y=\"Age\", data=train_data, showmeans=True, ax=axes[0]).set_title(\"Age\")\n",
    "sns.boxplot(x=\"Survived\", y=\"Fare\", data=train_data, showmeans=True, ax=axes[1]).set_title(\"Fare\")\n",
    "plt.show()"
   ]
  },
  {
   "cell_type": "markdown",
   "metadata": {},
   "source": [
    "Looking at the distribution of the some of the object columns:"
   ]
  },
  {
   "cell_type": "code",
   "execution_count": 11,
   "metadata": {},
   "outputs": [
    {
     "data": {
      "image/png": "[encoded data removed]",
      "text/plain": [
       "<matplotlib.figure.Figure at 0x10a0184a8>"
      ]
     },
     "metadata": {},
     "output_type": "display_data"
    }
   ],
   "source": [
    "f1, axes = plt.subplots(5, figsize=(15, 22))\n",
    "\n",
    "sns.countplot(x=\"Pclass\", hue=\"Survived\", data=train_data, ax=axes[0]).set_title(\"Passenger class\")\n",
    "sns.countplot(x=\"Sex\", hue=\"Survived\", data=train_data, ax=axes[1]).set_title(\"Sex\")\n",
    "sns.countplot(x=\"Embarked\", hue=\"Survived\", data=train_data, ax=axes[2]).set_title(\"Embarked\")\n",
    "sns.countplot(x=\"SibSp\", hue=\"Survived\", data=train_data, ax=axes[3]).set_title(\"SibSp\")\n",
    "sns.countplot(x=\"Parch\", hue=\"Survived\", data=train_data, ax=axes[4]).set_title(\"Parch\")\n",
    "\n",
    "plt.show()"
   ]
  },
  {
   "cell_type": "markdown",
   "metadata": {},
   "source": [
    "## Data preprocessing\n",
    "Cleaning the datasets, filling in NaN values and deleting columns that are not needed.\n"
   ]
  },
  {
   "cell_type": "code",
   "execution_count": 12,
   "metadata": {},
   "outputs": [],
   "source": [
    "train_data_copy = train_data.copy()\n",
    "test_data_copy = test_data.copy()\n",
    "\n",
    "dataset = train_data_copy.append(test_data_copy, ignore_index=True)"
   ]
  },
  {
   "cell_type": "markdown",
   "metadata": {},
   "source": [
    "### Missing values"
   ]
  },
  {
   "cell_type": "code",
   "execution_count": 13,
   "metadata": {},
   "outputs": [
    {
     "name": "stdout",
     "output_type": "stream",
     "text": [
      "<class 'pandas.core.frame.DataFrame'>\n",
      "RangeIndex: 1309 entries, 0 to 1308\n",
      "Data columns (total 12 columns):\n",
      "Age            1046 non-null float64\n",
      "Cabin          295 non-null object\n",
      "Embarked       1307 non-null object\n",
      "Fare           1308 non-null float64\n",
      "Name           1309 non-null object\n",
      "Parch          1309 non-null int64\n",
      "PassengerId    1309 non-null int64\n",
      "Pclass         1309 non-null int64\n",
      "Sex            1309 non-null object\n",
      "SibSp          1309 non-null int64\n",
      "Survived       891 non-null float64\n",
      "Ticket         1309 non-null object\n",
      "dtypes: float64(3), int64(4), object(5)\n",
      "memory usage: 122.8+ KB\n"
     ]
    }
   ],
   "source": [
    "dataset.info()"
   ]
  },
  {
   "cell_type": "code",
   "execution_count": 14,
   "metadata": {},
   "outputs": [
    {
     "name": "stdout",
     "output_type": "stream",
     "text": [
      "Mr          757\n",
      "Miss        260\n",
      "Mrs         197\n",
      "Master       61\n",
      "Rev           8\n",
      "Dr            8\n",
      "Col           4\n",
      "Ms            2\n",
      "Mlle          2\n",
      "Major         2\n",
      "Jonkheer      1\n",
      "Countess      1\n",
      "Don           1\n",
      "Mme           1\n",
      "Capt          1\n",
      "Lady          1\n",
      "Sir           1\n",
      "Dona          1\n",
      "Name: Title, dtype: int64\n"
     ]
    }
   ],
   "source": [
    "dataset[\"Title\"] = dataset.Name.str.extract(\" ([A-Za-z]+)\\.\", expand=False)\n",
    "print(dataset.Title.value_counts())"
   ]
  },
  {
   "cell_type": "code",
   "execution_count": 15,
   "metadata": {},
   "outputs": [],
   "source": [
    "# Title feature: adding title feature and remove name (\"Mr\", \"Miss\", \"Mrs\", \"Master\", \"Officer\", \"Adel\")\n",
    "dataset.Title = dataset.Title.replace([\"Capt\", \"Col\", \"Major\", \"Dr\", \"Rev\"], \"Officer\")\n",
    "dataset.Title = dataset.Title.replace([\"Jonkheer\", \"Don\", \"Sir\", \"Countess\", \"Dona\", \"Lady\"], \"Adel\")\n",
    "dataset.Title = dataset.Title.replace([\"Mlle\", \"Ms\"], \"Miss\")\n",
    "dataset.Title = dataset.Title.replace([\"Mme\"], \"Mrs\")\n",
    "\n",
    "# Missing ages: the median age value for their gender and pclass (evt. median age for the title)\n",
    "# Group data by sex, pclass and title\n",
    "grouped = dataset.groupby([\"Sex\",\"Pclass\", \"Title\"])\n",
    "dataset.Age = grouped.Age.apply(lambda x: x.fillna(x.median()))\n",
    "    \n",
    "# Missing Embarked: most occured value\n",
    "dataset.Embarked = dataset.Embarked.fillna(dataset.Embarked.mode()[0])\n",
    "\n",
    "# Missing Cabin: applying 0 for missing cabin and 1 for cabin\n",
    "dataset.Cabin = dataset.Cabin.apply(lambda x: 0 if type(x) == float else 1)    \n",
    "   \n",
    "# Missing Fare: median value\n",
    "dataset.Fare = dataset.Fare.fillna(dataset.Fare.median()) "
   ]
  },
  {
   "cell_type": "code",
   "execution_count": 16,
   "metadata": {},
   "outputs": [
    {
     "name": "stdout",
     "output_type": "stream",
     "text": [
      "<class 'pandas.core.frame.DataFrame'>\n",
      "RangeIndex: 1309 entries, 0 to 1308\n",
      "Data columns (total 13 columns):\n",
      "Age            1309 non-null float64\n",
      "Cabin          1309 non-null int64\n",
      "Embarked       1309 non-null object\n",
      "Fare           1309 non-null float64\n",
      "Name           1309 non-null object\n",
      "Parch          1309 non-null int64\n",
      "PassengerId    1309 non-null int64\n",
      "Pclass         1309 non-null int64\n",
      "Sex            1309 non-null object\n",
      "SibSp          1309 non-null int64\n",
      "Survived       891 non-null float64\n",
      "Ticket         1309 non-null object\n",
      "Title          1309 non-null object\n",
      "dtypes: float64(3), int64(5), object(5)\n",
      "memory usage: 133.0+ KB\n"
     ]
    }
   ],
   "source": [
    "dataset.info()"
   ]
  },
  {
   "cell_type": "markdown",
   "metadata": {},
   "source": [
    "### Adding featues\n"
   ]
  },
  {
   "cell_type": "code",
   "execution_count": 17,
   "metadata": {},
   "outputs": [],
   "source": [
    "dataset[\"FamilySize\"] = dataset.SibSp + dataset.Parch + 1\n",
    "\n",
    "dataset[\"Alone\"] = 0\n",
    "dataset.loc[dataset[\"FamilySize\"] == 1, \"Alone\"] = 1\n",
    "    \n",
    "#dataset[\"FamilySizeGroup\"] = \"Small\"                                 # 1 < x < 5\n",
    "#dataset.loc[dataset[\"FamilySize\"] == 1, \"FamilySizeGroup\"] = \"Alone\" # 1\n",
    "#dataset.loc[dataset[\"FamilySize\"] >= 5, \"FamilySizeGroup\"] = \"Big\"   # >= 5\n",
    "    \n",
    "# First letter of the Cabin"
   ]
  },
  {
   "cell_type": "code",
   "execution_count": 18,
   "metadata": {},
   "outputs": [
    {
     "data": {
      "text/html": [
       "<div>\n",
       "<style scoped>\n",
       "    .dataframe tbody tr th:only-of-type {\n",
       "        vertical-align: middle;\n",
       "    }\n",
       "\n",
       "    .dataframe tbody tr th {\n",
       "        vertical-align: top;\n",
       "    }\n",
       "\n",
       "    .dataframe thead th {\n",
       "        text-align: right;\n",
       "    }\n",
       "</style>\n",
       "<table border=\"1\" class=\"dataframe\">\n",
       "  <thead>\n",
       "    <tr style=\"text-align: right;\">\n",
       "      <th></th>\n",
       "      <th>Age</th>\n",
       "      <th>Cabin</th>\n",
       "      <th>Fare</th>\n",
       "      <th>Parch</th>\n",
       "      <th>PassengerId</th>\n",
       "      <th>Pclass</th>\n",
       "      <th>SibSp</th>\n",
       "      <th>Survived</th>\n",
       "      <th>FamilySize</th>\n",
       "      <th>Alone</th>\n",
       "    </tr>\n",
       "  </thead>\n",
       "  <tbody>\n",
       "    <tr>\n",
       "      <th>count</th>\n",
       "      <td>1309.000000</td>\n",
       "      <td>1309.000000</td>\n",
       "      <td>1309.000000</td>\n",
       "      <td>1309.000000</td>\n",
       "      <td>1309.000000</td>\n",
       "      <td>1309.000000</td>\n",
       "      <td>1309.000000</td>\n",
       "      <td>891.000000</td>\n",
       "      <td>1309.000000</td>\n",
       "      <td>1309.000000</td>\n",
       "    </tr>\n",
       "    <tr>\n",
       "      <th>mean</th>\n",
       "      <td>29.268655</td>\n",
       "      <td>0.225363</td>\n",
       "      <td>33.281086</td>\n",
       "      <td>0.385027</td>\n",
       "      <td>655.000000</td>\n",
       "      <td>2.294882</td>\n",
       "      <td>0.498854</td>\n",
       "      <td>0.383838</td>\n",
       "      <td>1.883881</td>\n",
       "      <td>0.603514</td>\n",
       "    </tr>\n",
       "    <tr>\n",
       "      <th>std</th>\n",
       "      <td>13.450246</td>\n",
       "      <td>0.417981</td>\n",
       "      <td>51.741500</td>\n",
       "      <td>0.865560</td>\n",
       "      <td>378.020061</td>\n",
       "      <td>0.837836</td>\n",
       "      <td>1.041658</td>\n",
       "      <td>0.486592</td>\n",
       "      <td>1.583639</td>\n",
       "      <td>0.489354</td>\n",
       "    </tr>\n",
       "    <tr>\n",
       "      <th>min</th>\n",
       "      <td>0.170000</td>\n",
       "      <td>0.000000</td>\n",
       "      <td>0.000000</td>\n",
       "      <td>0.000000</td>\n",
       "      <td>1.000000</td>\n",
       "      <td>1.000000</td>\n",
       "      <td>0.000000</td>\n",
       "      <td>0.000000</td>\n",
       "      <td>1.000000</td>\n",
       "      <td>0.000000</td>\n",
       "    </tr>\n",
       "    <tr>\n",
       "      <th>25%</th>\n",
       "      <td>21.000000</td>\n",
       "      <td>0.000000</td>\n",
       "      <td>7.895800</td>\n",
       "      <td>0.000000</td>\n",
       "      <td>328.000000</td>\n",
       "      <td>2.000000</td>\n",
       "      <td>0.000000</td>\n",
       "      <td>0.000000</td>\n",
       "      <td>1.000000</td>\n",
       "      <td>0.000000</td>\n",
       "    </tr>\n",
       "    <tr>\n",
       "      <th>50%</th>\n",
       "      <td>26.000000</td>\n",
       "      <td>0.000000</td>\n",
       "      <td>14.454200</td>\n",
       "      <td>0.000000</td>\n",
       "      <td>655.000000</td>\n",
       "      <td>3.000000</td>\n",
       "      <td>0.000000</td>\n",
       "      <td>0.000000</td>\n",
       "      <td>1.000000</td>\n",
       "      <td>1.000000</td>\n",
       "    </tr>\n",
       "    <tr>\n",
       "      <th>75%</th>\n",
       "      <td>36.500000</td>\n",
       "      <td>0.000000</td>\n",
       "      <td>31.275000</td>\n",
       "      <td>0.000000</td>\n",
       "      <td>982.000000</td>\n",
       "      <td>3.000000</td>\n",
       "      <td>1.000000</td>\n",
       "      <td>1.000000</td>\n",
       "      <td>2.000000</td>\n",
       "      <td>1.000000</td>\n",
       "    </tr>\n",
       "    <tr>\n",
       "      <th>max</th>\n",
       "      <td>80.000000</td>\n",
       "      <td>1.000000</td>\n",
       "      <td>512.329200</td>\n",
       "      <td>9.000000</td>\n",
       "      <td>1309.000000</td>\n",
       "      <td>3.000000</td>\n",
       "      <td>8.000000</td>\n",
       "      <td>1.000000</td>\n",
       "      <td>11.000000</td>\n",
       "      <td>1.000000</td>\n",
       "    </tr>\n",
       "  </tbody>\n",
       "</table>\n",
       "</div>"
      ],
      "text/plain": [
       "               Age        Cabin         Fare        Parch  PassengerId  \\\n",
       "count  1309.000000  1309.000000  1309.000000  1309.000000  1309.000000   \n",
       "mean     29.268655     0.225363    33.281086     0.385027   655.000000   \n",
       "std      13.450246     0.417981    51.741500     0.865560   378.020061   \n",
       "min       0.170000     0.000000     0.000000     0.000000     1.000000   \n",
       "25%      21.000000     0.000000     7.895800     0.000000   328.000000   \n",
       "50%      26.000000     0.000000    14.454200     0.000000   655.000000   \n",
       "75%      36.500000     0.000000    31.275000     0.000000   982.000000   \n",
       "max      80.000000     1.000000   512.329200     9.000000  1309.000000   \n",
       "\n",
       "            Pclass        SibSp    Survived   FamilySize        Alone  \n",
       "count  1309.000000  1309.000000  891.000000  1309.000000  1309.000000  \n",
       "mean      2.294882     0.498854    0.383838     1.883881     0.603514  \n",
       "std       0.837836     1.041658    0.486592     1.583639     0.489354  \n",
       "min       1.000000     0.000000    0.000000     1.000000     0.000000  \n",
       "25%       2.000000     0.000000    0.000000     1.000000     0.000000  \n",
       "50%       3.000000     0.000000    0.000000     1.000000     1.000000  \n",
       "75%       3.000000     1.000000    1.000000     2.000000     1.000000  \n",
       "max       3.000000     8.000000    1.000000    11.000000     1.000000  "
      ]
     },
     "execution_count": 18,
     "metadata": {},
     "output_type": "execute_result"
    }
   ],
   "source": [
    "dataset.describe(include=\"number\")"
   ]
  },
  {
   "cell_type": "markdown",
   "metadata": {},
   "source": [
    "### Encoding categorical values and feature selection\n",
    "\n",
    "Encoding categorical/object features to numerical values."
   ]
  },
  {
   "cell_type": "code",
   "execution_count": 21,
   "metadata": {},
   "outputs": [
    {
     "name": "stdout",
     "output_type": "stream",
     "text": [
      "Preprocessed data shape: (1309, 17)\n"
     ]
    }
   ],
   "source": [
    "# Create dummy variables for categorical features\n",
    "# Dropping the following: \"Name\", \"Ticket\", \"SibSp\", \"Parch\"\n",
    "  \n",
    "dataset_num = dataset.loc[:, [\"Age\", \"Cabin\", \"Fare\", \"Survived\", \"Alone\", \"FamilySize\", \"PassengerId\"]]\n",
    "dataset.Pclass = dataset.Pclass.astype(\"object\")\n",
    "dataset_dummy = dataset.loc[:, [\"Title\", \"Embarked\", \"Pclass\", \"Sex\"]]\n",
    "\n",
    "dummies = pd.get_dummies(dataset_dummy, drop_first=True)\n",
    "dataset_ny = dataset_num.join(dummies)\n",
    "\n",
    "print(\"Preprocessed data shape: {}\".format(dataset_ny.shape))"
   ]
  },
  {
   "cell_type": "code",
   "execution_count": null,
   "metadata": {},
   "outputs": [],
   "source": [
    "# I can do this if I want to later (not included)\n",
    "\n",
    "# Fare: mapped to 4 values (0/1/2/3)\n",
    "dataset.loc[dataset.Fare <= 7.9, \"Fare\"] = 0\n",
    "dataset.loc[dataset.Fare > 7.9, \"Fare\"] & dataset.loc[dataset.Fare <= 14.45, \"Fare\"] = 1\n",
    "dataset.loc[dataset.Fare > 14.45, \"Fare\"] & dataset.loc[dataset.Fare <= 31.27, \"Fare\"] = 2\n",
    "dataset.loc[dataset.Fare > 31.27, \"Fare\"] = 3\n",
    "    \n",
    "# Age: mapping ages to bins based on the above box plot numbers\n",
    "dataset.loc[dataset.Age <= 21, \"Age\"] = 0\n",
    "dataset.loc[dataset.Age > 21, \"Age\"] & dataset.loc[dataset.Age <= 26, \"Age\"] = 1\n",
    "dataset.loc[dataset.Age > 26, \"Age\"] & dataset.loc[dataset.Age <= 36.5, \"Age\"] = 2\n",
    "dataset.loc[dataset.Age > 36.5, \"Age\"] = 3"
   ]
  },
  {
   "cell_type": "markdown",
   "metadata": {},
   "source": [
    "## Modeling and evaluating different classifiers\n",
    "\n",
    "Creating the finale datasets to work with in the following section."
   ]
  },
  {
   "cell_type": "code",
   "execution_count": 59,
   "metadata": {},
   "outputs": [
    {
     "name": "stdout",
     "output_type": "stream",
     "text": [
      "The final shapes of the data are: X_train (891, 16), y_train (891,) and X_test (418, 16)\n"
     ]
    }
   ],
   "source": [
    "test_data_index = dataset_ny.Survived.isnull()\n",
    "\n",
    "X_train = dataset_ny[~test_data_index]\n",
    "y_train = X_train.Survived\n",
    "X_train = X_train.drop(\"Survived\", axis=1)\n",
    "X_test = dataset_ny[test_data_index]\n",
    "X_test = X_test.drop(\"Survived\", axis=1)\n",
    "\n",
    "print(\"The final shapes of the data are: X_train %s, y_train %s and X_test %s\" \n",
    "      %(str(X_train.shape), str(y_train.shape), str(X_test.shape)))"
   ]
  },
  {
   "cell_type": "code",
   "execution_count": 60,
   "metadata": {},
   "outputs": [],
   "source": [
    "from sklearn.pipeline import Pipeline\n",
    "from sklearn.metrics import accuracy_score"
   ]
  },
  {
   "cell_type": "code",
   "execution_count": 61,
   "metadata": {},
   "outputs": [],
   "source": [
    "X_train1, X_test1, y_train1, y_test1 = train_test_split(X_train, y_train, test_size=0.3, random_state=42, \n",
    "                                                       stratify=y_train)"
   ]
  },
  {
   "cell_type": "markdown",
   "metadata": {},
   "source": [
    "Random Forest Classifier"
   ]
  },
  {
   "cell_type": "code",
   "execution_count": 62,
   "metadata": {},
   "outputs": [
    {
     "name": "stdout",
     "output_type": "stream",
     "text": [
      "Best training accuracy: 0.848\n",
      "Test set accuracy score for best params: 0.813 \n",
      "Optimal params: Pipeline(memory=None,\n",
      "     steps=[('scl', StandardScaler(copy=True, with_mean=True, with_std=True)), ('clf', RandomForestClassifier(bootstrap=True, class_weight=None, criterion='gini',\n",
      "            max_depth=13, max_features='auto', max_leaf_nodes=None,\n",
      "            min_impurity_decrease=0.0, min_impurity_split=None,\n",
      "          ...n_jobs=1,\n",
      "            oob_score=False, random_state=None, verbose=0,\n",
      "            warm_start=False))])\n"
     ]
    }
   ],
   "source": [
    "pipe_rf = Pipeline([(\"scl\", StandardScaler()), (\"clf\", RandomForestClassifier())])\n",
    "params_rf = { \"clf__max_depth\": [x for x in range(9,14)],\n",
    "              \"clf__min_samples_split\": [x for x in range(4, 11)],\n",
    "              \"clf__min_samples_leaf\": [x for x in range(2,5)],\n",
    "              \"clf__n_estimators\": [x for x in range(10, 60, 10)]}\n",
    "\n",
    "gridsearch_rf = GridSearchCV(pipe_rf, params_rf, cv=10)\n",
    "gridsearch_rf.fit(X_train1, y_train1)\n",
    "\n",
    "print('Best training accuracy: %.3f' % gridsearch_rf.best_score_)\n",
    "y_pred = gridsearch_rf.best_estimator_.predict(X_test1)\n",
    "print('Test set accuracy score for best params: %.3f ' % accuracy_score(y_test1, y_pred))\n",
    "print(\"Optimal params: {}\".format(gridsearch_rf.best_estimator_))"
   ]
  },
  {
   "cell_type": "markdown",
   "metadata": {},
   "source": [
    "Decision Tree Classifier"
   ]
  },
  {
   "cell_type": "code",
   "execution_count": 63,
   "metadata": {},
   "outputs": [
    {
     "name": "stdout",
     "output_type": "stream",
     "text": [
      "Best training accuracy: 0.817\n",
      "Test set accuracy score for best params: 0.817 \n",
      "Optimal params: Pipeline(memory=None,\n",
      "     steps=[('scl', StandardScaler(copy=True, with_mean=True, with_std=True)), ('clf', DecisionTreeClassifier(class_weight=None, criterion='gini', max_depth=3,\n",
      "            max_features=None, max_leaf_nodes=None,\n",
      "            min_impurity_decrease=0.0, min_impurity_split=None,\n",
      "            min_samples_leaf=1, min_samples_split=2,\n",
      "            min_weight_fraction_leaf=0.0, presort=False, random_state=None,\n",
      "            splitter='best'))])\n"
     ]
    }
   ],
   "source": [
    "pipe_dt = Pipeline([(\"scl\", StandardScaler()), (\"clf\", DecisionTreeClassifier())])\n",
    "params_dt = { \"clf__max_depth\": [x for x in range(1,100)]}\n",
    "\n",
    "gridsearch_dt = GridSearchCV(pipe_dt, params_dt, cv=10)\n",
    "gridsearch_dt.fit(X_train1, y_train1)\n",
    "\n",
    "print('Best training accuracy: %.3f' % gridsearch_dt.best_score_)\n",
    "y_pred_dt = gridsearch_dt.best_estimator_.predict(X_test1)\n",
    "print('Test set accuracy score for best params: %.3f ' % accuracy_score(y_test1, y_pred_dt))\n",
    "print(\"Optimal params: {}\".format(gridsearch_dt.best_estimator_))"
   ]
  },
  {
   "cell_type": "markdown",
   "metadata": {},
   "source": [
    "K nearest neighbour classifier"
   ]
  },
  {
   "cell_type": "code",
   "execution_count": 64,
   "metadata": {},
   "outputs": [
    {
     "name": "stdout",
     "output_type": "stream",
     "text": [
      "Best training accuracy: 0.820\n",
      "Test set accuracy score for best params: 0.806 \n",
      "Optimal params: Pipeline(memory=None,\n",
      "     steps=[('scl', StandardScaler(copy=True, with_mean=True, with_std=True)), ('clf', KNeighborsClassifier(algorithm='auto', leaf_size=30, metric='minkowski',\n",
      "           metric_params=None, n_jobs=1, n_neighbors=7, p=4,\n",
      "           weights='uniform'))])\n"
     ]
    }
   ],
   "source": [
    "pipe_knn = Pipeline([(\"scl\", StandardScaler()), (\"clf\", KNeighborsClassifier())])\n",
    "params_knn = { \"clf__n_neighbors\": [x for x in range(1, 9)], \n",
    "              \"clf__p\": [x for x in range(2, 8)]}\n",
    "\n",
    "gridsearch_knn = GridSearchCV(pipe_knn, params_knn, cv=10)\n",
    "gridsearch_knn.fit(X_train1, y_train1)\n",
    "\n",
    "print('Best training accuracy: %.3f' % gridsearch_knn.best_score_)\n",
    "y_pred_knn = gridsearch_knn.best_estimator_.predict(X_test1)\n",
    "print('Test set accuracy score for best params: %.3f ' % accuracy_score(y_test1, y_pred_knn))\n",
    "print(\"Optimal params: {}\".format(gridsearch_knn.best_estimator_))"
   ]
  },
  {
   "cell_type": "markdown",
   "metadata": {},
   "source": [
    "Logistic Regression classifier"
   ]
  },
  {
   "cell_type": "code",
   "execution_count": 65,
   "metadata": {
    "scrolled": true
   },
   "outputs": [
    {
     "name": "stdout",
     "output_type": "stream",
     "text": [
      "Best training accuracy: 0.830\n",
      "Test set accuracy score for best params: 0.825 \n",
      "Optimal params: Pipeline(memory=None,\n",
      "     steps=[('scl', StandardScaler(copy=True, with_mean=True, with_std=True)), ('clf', LogisticRegression(C=0.05, class_weight=None, dual=False, fit_intercept=True,\n",
      "          intercept_scaling=1, max_iter=100, multi_class='ovr', n_jobs=1,\n",
      "          penalty='l2', random_state=None, solver='liblinear', tol=0.0001,\n",
      "          verbose=0, warm_start=False))])\n"
     ]
    }
   ],
   "source": [
    "pipe_lr = Pipeline([(\"scl\", StandardScaler()), (\"clf\", LogisticRegression())])\n",
    "params_lr = { \"clf__C\": [0.01, 0.05, 0.1, 0.5, 1],\n",
    "             \"clf__penalty\": [\"l1\", \"l2\"]}\n",
    "\n",
    "gridsearch_lr = GridSearchCV(pipe_lr, params_lr, cv=10)\n",
    "gridsearch_lr.fit(X_train1, y_train1)\n",
    "\n",
    "print('Best training accuracy: %.3f' % gridsearch_lr.best_score_)\n",
    "y_pred_lr = gridsearch_lr.best_estimator_.predict(X_test1)\n",
    "print('Test set accuracy score for best params: %.3f ' % accuracy_score(y_test1, y_pred_lr))\n",
    "print(\"Optimal params: {}\".format(gridsearch_lr.best_estimator_))"
   ]
  },
  {
   "cell_type": "markdown",
   "metadata": {},
   "source": [
    "Linear SVC classifier"
   ]
  },
  {
   "cell_type": "code",
   "execution_count": 66,
   "metadata": {},
   "outputs": [
    {
     "name": "stdout",
     "output_type": "stream",
     "text": [
      "Best training accuracy: 0.836\n",
      "Test set accuracy score for best params: 0.836 \n",
      "Optimal params: Pipeline(memory=None,\n",
      "     steps=[('scl', StandardScaler(copy=True, with_mean=True, with_std=True)), ('clf', LinearSVC(C=0.01, class_weight=None, dual=True, fit_intercept=True,\n",
      "     intercept_scaling=1, loss='squared_hinge', max_iter=1000,\n",
      "     multi_class='ovr', penalty='l2', random_state=None, tol=0.0001,\n",
      "     verbose=0))])\n"
     ]
    }
   ],
   "source": [
    "pipe_lsvc = Pipeline([(\"scl\", StandardScaler()), (\"clf\", LinearSVC())])\n",
    "params_lsvc = { \"clf__C\": [0.01, 0.05, 0.1, 0.5, 1]}\n",
    "\n",
    "gridsearch_lsvc = GridSearchCV(pipe_lsvc, params_lsvc, cv=10)\n",
    "gridsearch_lsvc.fit(X_train1, y_train1)\n",
    "\n",
    "print('Best training accuracy: %.3f' % gridsearch_lsvc.best_score_)\n",
    "y_pred_lsvc = gridsearch_lsvc.best_estimator_.predict(X_test1)\n",
    "print('Test set accuracy score for best params: %.3f ' % accuracy_score(y_test1, y_pred_lsvc))\n",
    "print(\"Optimal params: {}\".format(gridsearch_lsvc.best_estimator_))"
   ]
  },
  {
   "cell_type": "markdown",
   "metadata": {},
   "source": [
    "SVC classifier"
   ]
  },
  {
   "cell_type": "code",
   "execution_count": 67,
   "metadata": {},
   "outputs": [
    {
     "name": "stdout",
     "output_type": "stream",
     "text": [
      "Best training accuracy: 0.838\n",
      "Test set accuracy score for best params: 0.825 \n",
      "Optimal params: Pipeline(memory=None,\n",
      "     steps=[('scl', StandardScaler(copy=True, with_mean=True, with_std=True)), ('clf', SVC(C=0.5, cache_size=200, class_weight=None, coef0=0.0,\n",
      "  decision_function_shape='ovr', degree=3, gamma='auto', kernel='rbf',\n",
      "  max_iter=-1, probability=False, random_state=None, shrinking=True,\n",
      "  tol=0.001, verbose=False))])\n"
     ]
    }
   ],
   "source": [
    "pipe_svc = Pipeline([(\"scl\", StandardScaler()), (\"clf\", SVC())])\n",
    "params_svc = { \"clf__C\": [0.01, 0.05, 0.1, 0.5, 1]}\n",
    "\n",
    "gridsearch_svc = GridSearchCV(pipe_svc, params_svc, cv=10)\n",
    "gridsearch_svc.fit(X_train1, y_train1)\n",
    "\n",
    "print('Best training accuracy: %.3f' % gridsearch_svc.best_score_)\n",
    "y_pred_svc = gridsearch_svc.best_estimator_.predict(X_test1)\n",
    "print('Test set accuracy score for best params: %.3f ' % accuracy_score(y_test1, y_pred_svc))\n",
    "print(\"Optimal params: {}\".format(gridsearch_svc.best_estimator_))"
   ]
  },
  {
   "cell_type": "markdown",
   "metadata": {},
   "source": [
    "Making the final submissions:"
   ]
  },
  {
   "cell_type": "code",
   "execution_count": 68,
   "metadata": {},
   "outputs": [],
   "source": [
    "preds_rf = gridsearch_rf.best_estimator_.predict(X_test)\n",
    "submission_rf = pd.DataFrame(data={\"PassengerId\": X_test.PassengerId, \"Survived\": preds_rf})\n",
    "submission_rf.Survived = submission_rf.Survived.astype(int)\n",
    "submission_rf.to_csv(\"submission_randForrest.csv\",index=False)"
   ]
  },
  {
   "cell_type": "code",
   "execution_count": 69,
   "metadata": {},
   "outputs": [],
   "source": [
    "preds_dt = gridsearch_dt.best_estimator_.predict(X_test)\n",
    "submission_dt = pd.DataFrame(data={\"PassengerId\": X_test.PassengerId, \"Survived\": preds_dt})\n",
    "submission_dt.Survived = submission_dt.Survived.astype(int)\n",
    "submission_dt.to_csv(\"submission_decTree.csv\",index=False)"
   ]
  },
  {
   "cell_type": "code",
   "execution_count": 70,
   "metadata": {},
   "outputs": [],
   "source": [
    "preds_knn = gridsearch_knn.best_estimator_.predict(X_test)\n",
    "submission_knn = pd.DataFrame(data={\"PassengerId\": X_test.PassengerId, \"Survived\": preds_knn})\n",
    "submission_knn.Survived = submission_knn.Survived.astype(int)\n",
    "submission_knn.to_csv(\"submission_kNearestNeighbor.csv\",index=False)"
   ]
  },
  {
   "cell_type": "code",
   "execution_count": 71,
   "metadata": {},
   "outputs": [],
   "source": [
    "preds_lr = gridsearch_lr.best_estimator_.predict(X_test)\n",
    "submission_lr = pd.DataFrame(data={\"PassengerId\": X_test.PassengerId, \"Survived\": preds_lr})\n",
    "submission_lr.Survived = submission_lr.Survived.astype(int)\n",
    "submission_lr.to_csv(\"submission_logReg.csv\",index=False)"
   ]
  },
  {
   "cell_type": "code",
   "execution_count": 72,
   "metadata": {},
   "outputs": [],
   "source": [
    "preds_lsvc = gridsearch_lsvc.best_estimator_.predict(X_test)\n",
    "submission_lsvc = pd.DataFrame(data={\"PassengerId\": X_test.PassengerId, \"Survived\": preds_lsvc})\n",
    "submission_lsvc.Survived = submission_lsvc.Survived.astype(int)\n",
    "submission_lsvc.to_csv(\"submission_linearSVC.csv\",index=False)"
   ]
  },
  {
   "cell_type": "code",
   "execution_count": 73,
   "metadata": {},
   "outputs": [],
   "source": [
    "preds_svc = gridsearch_svc.best_estimator_.predict(X_test)\n",
    "submission_svc = pd.DataFrame(data={\"PassengerId\": X_test.PassengerId, \"Survived\": preds_svc})\n",
    "submission_svc.Survived = submission_svc.Survived.astype(int)\n",
    "submission_svc.to_csv(\"submission_SVC.csv\",index=False)"
   ]
  },
  {
   "cell_type": "code",
   "execution_count": null,
   "metadata": {},
   "outputs": [],
   "source": []
  }
 ],
 "metadata": {
  "kernelspec": {
   "display_name": "Python 3",
   "language": "python",
   "name": "python3"
  },
  "language_info": {
   "codemirror_mode": {
    "name": "ipython",
    "version": 3
   },
   "file_extension": ".py",
   "mimetype": "text/x-python",
   "name": "python",
   "nbconvert_exporter": "python",
   "pygments_lexer": "ipython3",
   "version": "3.6.4"
  }
 },
 "nbformat": 4,
 "nbformat_minor": 2
}
